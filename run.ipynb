{
 "cells": [
  {
   "cell_type": "code",
   "execution_count": null,
   "id": "00d8a6e3",
   "metadata": {},
   "outputs": [],
   "source": [
    "import gqr\n",
    "\n",
    "from vecguard.guards import semanticrouter"
   ]
  },
  {
   "cell_type": "code",
   "execution_count": null,
   "id": "5a44e0a9",
   "metadata": {},
   "outputs": [],
   "source": [
    "score = gqr.score(semanticrouter.scoring_function)"
   ]
  }
 ],
 "metadata": {
  "kernelspec": {
   "display_name": "qdrant-hackathon-2025 (3.12.0)",
   "language": "python",
   "name": "python3"
  },
  "language_info": {
   "codemirror_mode": {
    "name": "ipython",
    "version": 3
   },
   "file_extension": ".py",
   "mimetype": "text/x-python",
   "name": "python",
   "nbconvert_exporter": "python",
   "pygments_lexer": "ipython3",
   "version": "3.12.0"
  }
 },
 "nbformat": 4,
 "nbformat_minor": 5
}
