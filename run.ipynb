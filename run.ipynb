{
 "cells": [
  {
   "cell_type": "code",
   "execution_count": null,
   "id": "00d8a6e3",
   "metadata": {},
   "outputs": [],
   "source": [
    "import gqr"
   ]
  },
  {
   "cell_type": "code",
   "execution_count": null,
   "id": "bd5ce2ca",
   "metadata": {},
   "outputs": [],
   "source": [
    "from vecguard.guards import semanticrouter\n",
    "\n",
    "score = gqr.score(semanticrouter.scoring_function)"
   ]
  },
  {
   "cell_type": "code",
   "execution_count": null,
   "id": "5a44e0a9",
   "metadata": {},
   "outputs": [],
   "source": [
    "from vecguard.guards import pca_router\n",
    "\n",
    "score = gqr.score(pca_router.scoring_function)"
   ]
  },
  {
   "cell_type": "code",
   "execution_count": null,
   "id": "a19a3686",
   "metadata": {},
   "outputs": [],
   "source": [
    "from vecguard.guards import cav_router\n",
    "\n",
    "score = gqr.score(cav_router.scoring_function)"
   ]
  },
  {
   "cell_type": "code",
   "execution_count": null,
   "id": "8ce8810a",
   "metadata": {},
   "outputs": [],
   "source": [
    "from vecguard.guards import lda_router\n",
    "\n",
    "score = gqr.score(lda_router.scoring_function)"
   ]
  },
  {
   "cell_type": "code",
   "execution_count": null,
   "id": "07e130de",
   "metadata": {},
   "outputs": [],
   "source": [
    "from vecguard.guards import lease_router\n",
    "\n",
    "score = gqr.score(lease_router.scoring_function)"
   ]
  }
 ],
 "metadata": {
  "kernelspec": {
   "display_name": "qdrant-hackathon-2025 (3.12.0)",
   "language": "python",
   "name": "python3"
  },
  "language_info": {
   "codemirror_mode": {
    "name": "ipython",
    "version": 3
   },
   "file_extension": ".py",
   "mimetype": "text/x-python",
   "name": "python",
   "nbconvert_exporter": "python",
   "pygments_lexer": "ipython3",
   "version": "3.12.0"
  }
 },
 "nbformat": 4,
 "nbformat_minor": 5
}
