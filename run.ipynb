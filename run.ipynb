{
 "cells": [
  {
   "cell_type": "code",
   "execution_count": 5,
   "id": "00d8a6e3",
   "metadata": {},
   "outputs": [],
   "source": [
    "import gqr\n",
    "from vecguard.guards import pca_router, semanticrouter, cav_router"
   ]
  },
  {
   "cell_type": "code",
   "execution_count": null,
   "id": "bd5ce2ca",
   "metadata": {},
   "outputs": [],
   "source": [
    "\n",
    "score = gqr.score(semanticrouter.scoring_function)"
   ]
  },
  {
   "cell_type": "code",
   "execution_count": null,
   "id": "5a44e0a9",
   "metadata": {},
   "outputs": [],
   "source": [
    "score = gqr.score(pca_router.scoring_function)"
   ]
  },
  {
   "cell_type": "code",
   "execution_count": 6,
   "id": "8ce8810a",
   "metadata": {},
   "outputs": [
    {
     "name": "stdout",
     "output_type": "stream",
     "text": [
      "[GQR-Score] Loading ID test dataset...\n",
      "[GQR-Score] Running model on ID test dataset...\n",
      "[GQR-Score] ID scores:  {'accuracy': 0.9074444444444445, 'precision': 0.9859105005182937, 'recall': 0.9074444444444445, 'f1': 0.9443723943742907}\n",
      "[GQR-Score] Loading ID test dataset...\n",
      "[GQR-Score] Running model on OOD test dataset...\n",
      "[GQR-Score] OOD scores:\n",
      "   accuracy  precision    recall        f1              dataset\n",
      "0  0.844431        1.0  0.844431  0.915655               jigsaw\n",
      "1  0.829070        1.0  0.829070  0.906548                 olid\n",
      "2  0.832687        1.0  0.832687  0.908706          hate_xplain\n",
      "3  0.986444        1.0  0.986444  0.993176  hate_speech_slovak \n",
      "4  0.984802        1.0  0.984802  0.992343               dkhate\n",
      "5  0.919783        1.0  0.919783  0.958216        web_questions\n",
      "6  0.562500        1.0  0.562500  0.720000         ml_questions\n",
      "[GQR-Score] Final scores:  {'id_accuracy': 0.9074444444444445, 'ood_accuracy': np.float64(0.8513882771060468), 'gqr_score': np.float64(0.8785230711922829)}\n"
     ]
    }
   ],
   "source": [
    "score = gqr.score(cav_router.scoring_function)"
   ]
  },
  {
   "cell_type": "code",
   "execution_count": null,
   "id": "1c7e253c",
   "metadata": {},
   "outputs": [],
   "source": []
  }
 ],
 "metadata": {
  "kernelspec": {
   "display_name": "qdrant-hackathon-2025 (3.12.3)",
   "language": "python",
   "name": "python3"
  },
  "language_info": {
   "codemirror_mode": {
    "name": "ipython",
    "version": 3
   },
   "file_extension": ".py",
   "mimetype": "text/x-python",
   "name": "python",
   "nbconvert_exporter": "python",
   "pygments_lexer": "ipython3",
   "version": "3.12.3"
  }
 },
 "nbformat": 4,
 "nbformat_minor": 5
}
