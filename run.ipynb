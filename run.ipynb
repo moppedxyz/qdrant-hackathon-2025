{
 "cells": [
  {
   "cell_type": "code",
   "execution_count": null,
   "id": "00d8a6e3",
   "metadata": {},
   "outputs": [],
   "source": [
    "import gqr"
   ]
  },
  {
   "cell_type": "code",
   "execution_count": null,
   "id": "bd5ce2ca",
   "metadata": {},
   "outputs": [],
   "source": [
    "\n",
    "from vecguard.guards import semanticrouter\n",
    "score = gqr.score(semanticrouter.scoring_function)"
   ]
  },
  {
   "cell_type": "code",
   "execution_count": null,
   "id": "5a44e0a9",
   "metadata": {},
   "outputs": [],
   "source": [
    "from vecguard.guards import pcarouter\n",
    "score = gqr.score(pcarouter.scoring_function)"
   ]
  }
 ],
 "metadata": {
  "kernelspec": {
   "display_name": "qdrant-hackathon-2025",
   "language": "python",
   "name": "python3"
  },
  "language_info": {
   "codemirror_mode": {
    "name": "ipython",
    "version": 3
   },
   "file_extension": ".py",
   "mimetype": "text/x-python",
   "name": "python",
   "nbconvert_exporter": "python",
   "pygments_lexer": "ipython3",
   "version": "3.12.11"
  }
 },
 "nbformat": 4,
 "nbformat_minor": 5
}
